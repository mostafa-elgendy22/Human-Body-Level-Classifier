{
 "cells": [
  {
   "cell_type": "code",
   "execution_count": 1,
   "metadata": {},
   "outputs": [],
   "source": [
    "def warn(*args, **kwargs):\n",
    "    pass\n",
    "import warnings\n",
    "warnings.warn = warn"
   ]
  },
  {
   "cell_type": "code",
   "execution_count": 2,
   "metadata": {},
   "outputs": [],
   "source": [
    "import pandas as pd\n",
    "from sklearn.model_selection import train_test_split\n",
    "from sklearn.dummy import DummyClassifier\n",
    "from sklearn.metrics import classification_report\n",
    "from preprocess import *"
   ]
  },
  {
   "cell_type": "code",
   "execution_count": 3,
   "metadata": {},
   "outputs": [],
   "source": [
    "# Read the preprocessed dataset\n",
    "train = pd.read_csv('../dataset/train_preprocessed.csv')\n",
    "X_train = train.drop('Body_Level', axis=1).to_numpy()\n",
    "y_train = train['Body_Level'].to_numpy(dtype='int')"
   ]
  },
  {
   "cell_type": "code",
   "execution_count": 4,
   "metadata": {},
   "outputs": [],
   "source": [
    "# Read the test dataset\n",
    "test = pd.read_csv('../dataset/test.csv')\n",
    "test = preprocess(test.drop('Body_Level', axis=1), test['Body_Level'])\n",
    "test = remove_uncorrelated_features(test)\n",
    "X_test = test.drop('Body_Level', axis=1).to_numpy()\n",
    "y_test = test['Body_Level'].to_numpy(dtype='int')"
   ]
  },
  {
   "cell_type": "code",
   "execution_count": 5,
   "metadata": {},
   "outputs": [],
   "source": [
    "reports = []\n",
    "strategies = [\"most_frequent\", \"uniform\", \"constant\"]\n",
    "for strategy in strategies:\n",
    "    model_architecture = DummyClassifier(strategy=strategy, constant=1)\n",
    "    model = model_architecture.fit(X_train, y_train)\n",
    "    y_pred = model.predict(X_test)\n",
    "    reports.append(classification_report(y_test, y_pred))"
   ]
  },
  {
   "cell_type": "code",
   "execution_count": 6,
   "metadata": {},
   "outputs": [
    {
     "name": "stdout",
     "output_type": "stream",
     "text": [
      "Strategy: most_frequent\n",
      "              precision    recall  f1-score   support\n",
      "\n",
      "           1       0.00      0.00      0.00        40\n",
      "           2       0.00      0.00      0.00        55\n",
      "           3       0.00      0.00      0.00       100\n",
      "           4       0.47      1.00      0.64       175\n",
      "\n",
      "    accuracy                           0.47       370\n",
      "   macro avg       0.12      0.25      0.16       370\n",
      "weighted avg       0.22      0.47      0.30       370\n",
      "\n",
      "\n",
      "\n",
      "Strategy: uniform\n",
      "              precision    recall  f1-score   support\n",
      "\n",
      "           1       0.10      0.23      0.14        40\n",
      "           2       0.14      0.25      0.18        55\n",
      "           3       0.27      0.23      0.25       100\n",
      "           4       0.43      0.24      0.31       175\n",
      "\n",
      "    accuracy                           0.24       370\n",
      "   macro avg       0.24      0.24      0.22       370\n",
      "weighted avg       0.31      0.24      0.25       370\n",
      "\n",
      "\n",
      "\n",
      "Strategy: constant\n",
      "              precision    recall  f1-score   support\n",
      "\n",
      "           1       0.11      1.00      0.20        40\n",
      "           2       0.00      0.00      0.00        55\n",
      "           3       0.00      0.00      0.00       100\n",
      "           4       0.00      0.00      0.00       175\n",
      "\n",
      "    accuracy                           0.11       370\n",
      "   macro avg       0.03      0.25      0.05       370\n",
      "weighted avg       0.01      0.11      0.02       370\n",
      "\n",
      "\n",
      "\n"
     ]
    }
   ],
   "source": [
    "for strategy, report in zip(strategies, reports):\n",
    "    print(\"Strategy:\", strategy)\n",
    "    print(report)\n",
    "    print(\"\\n\")"
   ]
  }
 ],
 "metadata": {
  "kernelspec": {
   "display_name": "base",
   "language": "python",
   "name": "python3"
  },
  "language_info": {
   "codemirror_mode": {
    "name": "ipython",
    "version": 3
   },
   "file_extension": ".py",
   "mimetype": "text/x-python",
   "name": "python",
   "nbconvert_exporter": "python",
   "pygments_lexer": "ipython3",
   "version": "3.8.6"
  },
  "orig_nbformat": 4,
  "vscode": {
   "interpreter": {
    "hash": "7679c2132d3f6ce38c9df14d554b39c06862b36a4e6689c81f9ae15bd0911d7d"
   }
  }
 },
 "nbformat": 4,
 "nbformat_minor": 2
}
