{
 "cells": [
  {
   "cell_type": "code",
   "execution_count": 12,
   "metadata": {},
   "outputs": [],
   "source": [
    "def warn(*args, **kwargs):\n",
    "    pass\n",
    "import warnings\n",
    "warnings.warn = warn"
   ]
  },
  {
   "cell_type": "code",
   "execution_count": 13,
   "metadata": {},
   "outputs": [],
   "source": [
    "import pandas as pd\n",
    "from sklearn.model_selection import train_test_split\n",
    "from sklearn.dummy import DummyClassifier\n",
    "from sklearn.metrics import classification_report"
   ]
  },
  {
   "cell_type": "code",
   "execution_count": 14,
   "metadata": {},
   "outputs": [],
   "source": [
    "# Read the preprocessed dataset\n",
    "df = pd.read_csv('../dataset/body_level_classification_train_preprocessed.csv')\n",
    "\n",
    "X = df.drop('Body_Level', axis=1)\n",
    "y = df['Body_Level']"
   ]
  },
  {
   "cell_type": "code",
   "execution_count": 15,
   "metadata": {},
   "outputs": [],
   "source": [
    "# Split the data into training and testing sets\n",
    "X_train, X_test, y_train, y_test = train_test_split(X, y, test_size=0.3)"
   ]
  },
  {
   "cell_type": "code",
   "execution_count": 16,
   "metadata": {},
   "outputs": [],
   "source": [
    "reports = []\n",
    "strategies = [\"most_frequent\", \"uniform\", \"constant\"]\n",
    "for strategy in strategies:\n",
    "    model_architecture = DummyClassifier(strategy=strategy, constant=1)\n",
    "    model = model_architecture.fit(X_train, y_train)\n",
    "    y_pred = model.predict(X_test)\n",
    "    reports.append(classification_report(y_test, y_pred))"
   ]
  },
  {
   "cell_type": "code",
   "execution_count": 17,
   "metadata": {},
   "outputs": [
    {
     "name": "stdout",
     "output_type": "stream",
     "text": [
      "Strategy: most_frequent\n",
      "              precision    recall  f1-score   support\n",
      "\n",
      "           1       0.00      0.00      0.00       200\n",
      "           2       0.00      0.00      0.00       210\n",
      "           3       0.00      0.00      0.00       215\n",
      "           4       0.23      1.00      0.38       191\n",
      "\n",
      "    accuracy                           0.23       816\n",
      "   macro avg       0.06      0.25      0.09       816\n",
      "weighted avg       0.05      0.23      0.09       816\n",
      "\n",
      "\n",
      "\n",
      "Strategy: uniform\n",
      "              precision    recall  f1-score   support\n",
      "\n",
      "           1       0.18      0.19      0.19       200\n",
      "           2       0.23      0.21      0.22       210\n",
      "           3       0.22      0.22      0.22       215\n",
      "           4       0.23      0.24      0.23       191\n",
      "\n",
      "    accuracy                           0.21       816\n",
      "   macro avg       0.21      0.21      0.21       816\n",
      "weighted avg       0.22      0.21      0.21       816\n",
      "\n",
      "\n",
      "\n",
      "Strategy: constant\n",
      "              precision    recall  f1-score   support\n",
      "\n",
      "           1       0.25      1.00      0.39       200\n",
      "           2       0.00      0.00      0.00       210\n",
      "           3       0.00      0.00      0.00       215\n",
      "           4       0.00      0.00      0.00       191\n",
      "\n",
      "    accuracy                           0.25       816\n",
      "   macro avg       0.06      0.25      0.10       816\n",
      "weighted avg       0.06      0.25      0.10       816\n",
      "\n",
      "\n",
      "\n"
     ]
    }
   ],
   "source": [
    "for strategy, report in zip(strategies, reports):\n",
    "    print(\"Strategy:\", strategy)\n",
    "    print(report)\n",
    "    print(\"\\n\")"
   ]
  }
 ],
 "metadata": {
  "kernelspec": {
   "display_name": "Python 3",
   "language": "python",
   "name": "python3"
  },
  "language_info": {
   "codemirror_mode": {
    "name": "ipython",
    "version": 3
   },
   "file_extension": ".py",
   "mimetype": "text/x-python",
   "name": "python",
   "nbconvert_exporter": "python",
   "pygments_lexer": "ipython3",
   "version": "3.8.6"
  },
  "orig_nbformat": 4
 },
 "nbformat": 4,
 "nbformat_minor": 2
}
