{
 "cells": [
  {
   "cell_type": "code",
   "execution_count": 1,
   "metadata": {},
   "outputs": [],
   "source": [
    "import pandas as pd\n",
    "import numpy as np\n",
    "import seaborn as sns\n",
    "import matplotlib.pyplot as plt\n",
    "import plotly.express as px\n",
    "from imblearn.over_sampling import RandomOverSampler\n",
    "from sklearn.preprocessing import StandardScaler\n",
    "from preprocess import preprocess"
   ]
  },
  {
   "cell_type": "code",
   "execution_count": 2,
   "metadata": {},
   "outputs": [
    {
     "name": "stdout",
     "output_type": "stream",
     "text": [
      "(1477, 16)\n",
      "(1477,)\n"
     ]
    }
   ],
   "source": [
    "# Find X and y from the dataset\n",
    "df = pd.read_csv('../dataset/body_level_classification_train.csv')\n",
    "y = df['Body_Level']\n",
    "X = df.drop(['Body_Level'], axis=1)\n",
    "\n",
    "print(X.shape)\n",
    "print(y.shape)"
   ]
  },
  {
   "cell_type": "code",
   "execution_count": 3,
   "metadata": {},
   "outputs": [
    {
     "name": "stdout",
     "output_type": "stream",
     "text": [
      "2720\n"
     ]
    }
   ],
   "source": [
    "# Random oversample to make the minority class instances equal to the majority class instances\n",
    "oversample = RandomOverSampler(sampling_strategy='not majority')\n",
    "X_over, y_over = oversample.fit_resample(X, y)\n",
    "\n",
    "X = pd.DataFrame(X_over, columns=X.columns)\n",
    "y = y_over\n",
    "\n",
    "print(X.shape[0])"
   ]
  },
  {
   "cell_type": "code",
   "execution_count": 4,
   "metadata": {},
   "outputs": [],
   "source": [
    "def countPlot(data=None, x=None, y=None, palette='bright', height=15, title=' ', subtitle=' ', description=' '):\n",
    "    sns.set(style = 'whitegrid', rc = {'figure.figsize': (20,height)})\n",
    "    g = sns.countplot(data=data, y=y, x=x, palette=palette)\n",
    "    g.set_ylabel(' \\n\\n\\n')\n",
    "    g.set_xlabel(' \\n\\n\\n\\n\\n')\n",
    "    g.set_title(f'\\n\\n\\n\\n{title}\\n\\n'.upper(), loc = 'left', fontdict = dict(fontsize = 15, fontweight = 'bold'))\n",
    "    g.set_yticklabels(\n",
    "        [tick_label.get_text().title() for tick_label in g.get_yticklabels()],\n",
    "        fontdict = dict(\n",
    "            fontsize = 12.5,\n",
    "            fontweight = 'medium'))\n",
    "    \n",
    "    plt.text(s = f'{description}',\n",
    "             alpha = 0.5,\n",
    "             x = 0,\n",
    "             y = -.18,\n",
    "             verticalalignment = 'baseline',\n",
    "             horizontalalignment = 'left',\n",
    "             transform = g.transAxes)\n",
    "    \n",
    "    g.bar_label(container = g.containers[0], padding = 10,)\n",
    "    plt.text(s = ' ', x = 1.08, y = 1, transform = g.transAxes)\n",
    "    sns.despine()\n",
    "    return g\n",
    "\n",
    "def piePlot(data=None, value='Percentage', name='Class', title=' ', subtitle=' ', description=' '):\n",
    "    data_pie = pd.DataFrame(data.value_counts() / data.shape[0]*100).reset_index()\n",
    "    data_pie.columns = [name, value]\n",
    "    fig = px.pie(data_pie, values=value, names=name, title=title)\n",
    "    fig.update_layout(title=title, title_x=0.48)\n",
    "    fig.show()"
   ]
  },
  {
   "cell_type": "code",
   "execution_count": 5,
   "metadata": {},
   "outputs": [
    {
     "data": {
      "application/vnd.plotly.v1+json": {
       "config": {
        "plotlyServerURL": "https://plot.ly"
       },
       "data": [
        {
         "domain": {
          "x": [
           0,
           1
          ],
          "y": [
           0,
           1
          ]
         },
         "hovertemplate": "Class=%{label}<br>Percentage=%{value}<extra></extra>",
         "labels": [
          "Body Level 1",
          "Body Level 2",
          "Body Level 3",
          "Body Level 4"
         ],
         "legendgroup": "",
         "name": "",
         "showlegend": true,
         "type": "pie",
         "values": [
          25,
          25,
          25,
          25
         ]
        }
       ],
       "layout": {
        "legend": {
         "tracegroupgap": 0
        },
        "template": {
         "data": {
          "bar": [
           {
            "error_x": {
             "color": "#2a3f5f"
            },
            "error_y": {
             "color": "#2a3f5f"
            },
            "marker": {
             "line": {
              "color": "#E5ECF6",
              "width": 0.5
             },
             "pattern": {
              "fillmode": "overlay",
              "size": 10,
              "solidity": 0.2
             }
            },
            "type": "bar"
           }
          ],
          "barpolar": [
           {
            "marker": {
             "line": {
              "color": "#E5ECF6",
              "width": 0.5
             },
             "pattern": {
              "fillmode": "overlay",
              "size": 10,
              "solidity": 0.2
             }
            },
            "type": "barpolar"
           }
          ],
          "carpet": [
           {
            "aaxis": {
             "endlinecolor": "#2a3f5f",
             "gridcolor": "white",
             "linecolor": "white",
             "minorgridcolor": "white",
             "startlinecolor": "#2a3f5f"
            },
            "baxis": {
             "endlinecolor": "#2a3f5f",
             "gridcolor": "white",
             "linecolor": "white",
             "minorgridcolor": "white",
             "startlinecolor": "#2a3f5f"
            },
            "type": "carpet"
           }
          ],
          "choropleth": [
           {
            "colorbar": {
             "outlinewidth": 0,
             "ticks": ""
            },
            "type": "choropleth"
           }
          ],
          "contour": [
           {
            "colorbar": {
             "outlinewidth": 0,
             "ticks": ""
            },
            "colorscale": [
             [
              0,
              "#0d0887"
             ],
             [
              0.1111111111111111,
              "#46039f"
             ],
             [
              0.2222222222222222,
              "#7201a8"
             ],
             [
              0.3333333333333333,
              "#9c179e"
             ],
             [
              0.4444444444444444,
              "#bd3786"
             ],
             [
              0.5555555555555556,
              "#d8576b"
             ],
             [
              0.6666666666666666,
              "#ed7953"
             ],
             [
              0.7777777777777778,
              "#fb9f3a"
             ],
             [
              0.8888888888888888,
              "#fdca26"
             ],
             [
              1,
              "#f0f921"
             ]
            ],
            "type": "contour"
           }
          ],
          "contourcarpet": [
           {
            "colorbar": {
             "outlinewidth": 0,
             "ticks": ""
            },
            "type": "contourcarpet"
           }
          ],
          "heatmap": [
           {
            "colorbar": {
             "outlinewidth": 0,
             "ticks": ""
            },
            "colorscale": [
             [
              0,
              "#0d0887"
             ],
             [
              0.1111111111111111,
              "#46039f"
             ],
             [
              0.2222222222222222,
              "#7201a8"
             ],
             [
              0.3333333333333333,
              "#9c179e"
             ],
             [
              0.4444444444444444,
              "#bd3786"
             ],
             [
              0.5555555555555556,
              "#d8576b"
             ],
             [
              0.6666666666666666,
              "#ed7953"
             ],
             [
              0.7777777777777778,
              "#fb9f3a"
             ],
             [
              0.8888888888888888,
              "#fdca26"
             ],
             [
              1,
              "#f0f921"
             ]
            ],
            "type": "heatmap"
           }
          ],
          "heatmapgl": [
           {
            "colorbar": {
             "outlinewidth": 0,
             "ticks": ""
            },
            "colorscale": [
             [
              0,
              "#0d0887"
             ],
             [
              0.1111111111111111,
              "#46039f"
             ],
             [
              0.2222222222222222,
              "#7201a8"
             ],
             [
              0.3333333333333333,
              "#9c179e"
             ],
             [
              0.4444444444444444,
              "#bd3786"
             ],
             [
              0.5555555555555556,
              "#d8576b"
             ],
             [
              0.6666666666666666,
              "#ed7953"
             ],
             [
              0.7777777777777778,
              "#fb9f3a"
             ],
             [
              0.8888888888888888,
              "#fdca26"
             ],
             [
              1,
              "#f0f921"
             ]
            ],
            "type": "heatmapgl"
           }
          ],
          "histogram": [
           {
            "marker": {
             "pattern": {
              "fillmode": "overlay",
              "size": 10,
              "solidity": 0.2
             }
            },
            "type": "histogram"
           }
          ],
          "histogram2d": [
           {
            "colorbar": {
             "outlinewidth": 0,
             "ticks": ""
            },
            "colorscale": [
             [
              0,
              "#0d0887"
             ],
             [
              0.1111111111111111,
              "#46039f"
             ],
             [
              0.2222222222222222,
              "#7201a8"
             ],
             [
              0.3333333333333333,
              "#9c179e"
             ],
             [
              0.4444444444444444,
              "#bd3786"
             ],
             [
              0.5555555555555556,
              "#d8576b"
             ],
             [
              0.6666666666666666,
              "#ed7953"
             ],
             [
              0.7777777777777778,
              "#fb9f3a"
             ],
             [
              0.8888888888888888,
              "#fdca26"
             ],
             [
              1,
              "#f0f921"
             ]
            ],
            "type": "histogram2d"
           }
          ],
          "histogram2dcontour": [
           {
            "colorbar": {
             "outlinewidth": 0,
             "ticks": ""
            },
            "colorscale": [
             [
              0,
              "#0d0887"
             ],
             [
              0.1111111111111111,
              "#46039f"
             ],
             [
              0.2222222222222222,
              "#7201a8"
             ],
             [
              0.3333333333333333,
              "#9c179e"
             ],
             [
              0.4444444444444444,
              "#bd3786"
             ],
             [
              0.5555555555555556,
              "#d8576b"
             ],
             [
              0.6666666666666666,
              "#ed7953"
             ],
             [
              0.7777777777777778,
              "#fb9f3a"
             ],
             [
              0.8888888888888888,
              "#fdca26"
             ],
             [
              1,
              "#f0f921"
             ]
            ],
            "type": "histogram2dcontour"
           }
          ],
          "mesh3d": [
           {
            "colorbar": {
             "outlinewidth": 0,
             "ticks": ""
            },
            "type": "mesh3d"
           }
          ],
          "parcoords": [
           {
            "line": {
             "colorbar": {
              "outlinewidth": 0,
              "ticks": ""
             }
            },
            "type": "parcoords"
           }
          ],
          "pie": [
           {
            "automargin": true,
            "type": "pie"
           }
          ],
          "scatter": [
           {
            "fillpattern": {
             "fillmode": "overlay",
             "size": 10,
             "solidity": 0.2
            },
            "type": "scatter"
           }
          ],
          "scatter3d": [
           {
            "line": {
             "colorbar": {
              "outlinewidth": 0,
              "ticks": ""
             }
            },
            "marker": {
             "colorbar": {
              "outlinewidth": 0,
              "ticks": ""
             }
            },
            "type": "scatter3d"
           }
          ],
          "scattercarpet": [
           {
            "marker": {
             "colorbar": {
              "outlinewidth": 0,
              "ticks": ""
             }
            },
            "type": "scattercarpet"
           }
          ],
          "scattergeo": [
           {
            "marker": {
             "colorbar": {
              "outlinewidth": 0,
              "ticks": ""
             }
            },
            "type": "scattergeo"
           }
          ],
          "scattergl": [
           {
            "marker": {
             "colorbar": {
              "outlinewidth": 0,
              "ticks": ""
             }
            },
            "type": "scattergl"
           }
          ],
          "scattermapbox": [
           {
            "marker": {
             "colorbar": {
              "outlinewidth": 0,
              "ticks": ""
             }
            },
            "type": "scattermapbox"
           }
          ],
          "scatterpolar": [
           {
            "marker": {
             "colorbar": {
              "outlinewidth": 0,
              "ticks": ""
             }
            },
            "type": "scatterpolar"
           }
          ],
          "scatterpolargl": [
           {
            "marker": {
             "colorbar": {
              "outlinewidth": 0,
              "ticks": ""
             }
            },
            "type": "scatterpolargl"
           }
          ],
          "scatterternary": [
           {
            "marker": {
             "colorbar": {
              "outlinewidth": 0,
              "ticks": ""
             }
            },
            "type": "scatterternary"
           }
          ],
          "surface": [
           {
            "colorbar": {
             "outlinewidth": 0,
             "ticks": ""
            },
            "colorscale": [
             [
              0,
              "#0d0887"
             ],
             [
              0.1111111111111111,
              "#46039f"
             ],
             [
              0.2222222222222222,
              "#7201a8"
             ],
             [
              0.3333333333333333,
              "#9c179e"
             ],
             [
              0.4444444444444444,
              "#bd3786"
             ],
             [
              0.5555555555555556,
              "#d8576b"
             ],
             [
              0.6666666666666666,
              "#ed7953"
             ],
             [
              0.7777777777777778,
              "#fb9f3a"
             ],
             [
              0.8888888888888888,
              "#fdca26"
             ],
             [
              1,
              "#f0f921"
             ]
            ],
            "type": "surface"
           }
          ],
          "table": [
           {
            "cells": {
             "fill": {
              "color": "#EBF0F8"
             },
             "line": {
              "color": "white"
             }
            },
            "header": {
             "fill": {
              "color": "#C8D4E3"
             },
             "line": {
              "color": "white"
             }
            },
            "type": "table"
           }
          ]
         },
         "layout": {
          "annotationdefaults": {
           "arrowcolor": "#2a3f5f",
           "arrowhead": 0,
           "arrowwidth": 1
          },
          "autotypenumbers": "strict",
          "coloraxis": {
           "colorbar": {
            "outlinewidth": 0,
            "ticks": ""
           }
          },
          "colorscale": {
           "diverging": [
            [
             0,
             "#8e0152"
            ],
            [
             0.1,
             "#c51b7d"
            ],
            [
             0.2,
             "#de77ae"
            ],
            [
             0.3,
             "#f1b6da"
            ],
            [
             0.4,
             "#fde0ef"
            ],
            [
             0.5,
             "#f7f7f7"
            ],
            [
             0.6,
             "#e6f5d0"
            ],
            [
             0.7,
             "#b8e186"
            ],
            [
             0.8,
             "#7fbc41"
            ],
            [
             0.9,
             "#4d9221"
            ],
            [
             1,
             "#276419"
            ]
           ],
           "sequential": [
            [
             0,
             "#0d0887"
            ],
            [
             0.1111111111111111,
             "#46039f"
            ],
            [
             0.2222222222222222,
             "#7201a8"
            ],
            [
             0.3333333333333333,
             "#9c179e"
            ],
            [
             0.4444444444444444,
             "#bd3786"
            ],
            [
             0.5555555555555556,
             "#d8576b"
            ],
            [
             0.6666666666666666,
             "#ed7953"
            ],
            [
             0.7777777777777778,
             "#fb9f3a"
            ],
            [
             0.8888888888888888,
             "#fdca26"
            ],
            [
             1,
             "#f0f921"
            ]
           ],
           "sequentialminus": [
            [
             0,
             "#0d0887"
            ],
            [
             0.1111111111111111,
             "#46039f"
            ],
            [
             0.2222222222222222,
             "#7201a8"
            ],
            [
             0.3333333333333333,
             "#9c179e"
            ],
            [
             0.4444444444444444,
             "#bd3786"
            ],
            [
             0.5555555555555556,
             "#d8576b"
            ],
            [
             0.6666666666666666,
             "#ed7953"
            ],
            [
             0.7777777777777778,
             "#fb9f3a"
            ],
            [
             0.8888888888888888,
             "#fdca26"
            ],
            [
             1,
             "#f0f921"
            ]
           ]
          },
          "colorway": [
           "#636efa",
           "#EF553B",
           "#00cc96",
           "#ab63fa",
           "#FFA15A",
           "#19d3f3",
           "#FF6692",
           "#B6E880",
           "#FF97FF",
           "#FECB52"
          ],
          "font": {
           "color": "#2a3f5f"
          },
          "geo": {
           "bgcolor": "white",
           "lakecolor": "white",
           "landcolor": "#E5ECF6",
           "showlakes": true,
           "showland": true,
           "subunitcolor": "white"
          },
          "hoverlabel": {
           "align": "left"
          },
          "hovermode": "closest",
          "mapbox": {
           "style": "light"
          },
          "paper_bgcolor": "white",
          "plot_bgcolor": "#E5ECF6",
          "polar": {
           "angularaxis": {
            "gridcolor": "white",
            "linecolor": "white",
            "ticks": ""
           },
           "bgcolor": "#E5ECF6",
           "radialaxis": {
            "gridcolor": "white",
            "linecolor": "white",
            "ticks": ""
           }
          },
          "scene": {
           "xaxis": {
            "backgroundcolor": "#E5ECF6",
            "gridcolor": "white",
            "gridwidth": 2,
            "linecolor": "white",
            "showbackground": true,
            "ticks": "",
            "zerolinecolor": "white"
           },
           "yaxis": {
            "backgroundcolor": "#E5ECF6",
            "gridcolor": "white",
            "gridwidth": 2,
            "linecolor": "white",
            "showbackground": true,
            "ticks": "",
            "zerolinecolor": "white"
           },
           "zaxis": {
            "backgroundcolor": "#E5ECF6",
            "gridcolor": "white",
            "gridwidth": 2,
            "linecolor": "white",
            "showbackground": true,
            "ticks": "",
            "zerolinecolor": "white"
           }
          },
          "shapedefaults": {
           "line": {
            "color": "#2a3f5f"
           }
          },
          "ternary": {
           "aaxis": {
            "gridcolor": "white",
            "linecolor": "white",
            "ticks": ""
           },
           "baxis": {
            "gridcolor": "white",
            "linecolor": "white",
            "ticks": ""
           },
           "bgcolor": "#E5ECF6",
           "caxis": {
            "gridcolor": "white",
            "linecolor": "white",
            "ticks": ""
           }
          },
          "title": {
           "x": 0.05
          },
          "xaxis": {
           "automargin": true,
           "gridcolor": "white",
           "linecolor": "white",
           "ticks": "",
           "title": {
            "standoff": 15
           },
           "zerolinecolor": "white",
           "zerolinewidth": 2
          },
          "yaxis": {
           "automargin": true,
           "gridcolor": "white",
           "linecolor": "white",
           "ticks": "",
           "title": {
            "standoff": 15
           },
           "zerolinecolor": "white",
           "zerolinewidth": 2
          }
         }
        },
        "title": {
         "text": "Class Distribution",
         "x": 0.48
        }
       }
      }
     },
     "metadata": {},
     "output_type": "display_data"
    },
    {
     "data": {
      "image/png": "[encoded data removed]",
      "text/plain": [
       "<Figure size 2000x400 with 1 Axes>"
      ]
     },
     "metadata": {},
     "output_type": "display_data"
    }
   ],
   "source": [
    "countPlot(y = y, title = 'Countplot of Classes', height = y.nunique())\n",
    "piePlot(data = y, value = 'Percentage', name = 'Class', title = 'Class Distribution')  "
   ]
  },
  {
   "cell_type": "code",
   "execution_count": 6,
   "metadata": {},
   "outputs": [
    {
     "data": {
      "text/html": [
       "<div>\n",
       "<style scoped>\n",
       "    .dataframe tbody tr th:only-of-type {\n",
       "        vertical-align: middle;\n",
       "    }\n",
       "\n",
       "    .dataframe tbody tr th {\n",
       "        vertical-align: top;\n",
       "    }\n",
       "\n",
       "    .dataframe thead th {\n",
       "        text-align: right;\n",
       "    }\n",
       "</style>\n",
       "<table border=\"1\" class=\"dataframe\">\n",
       "  <thead>\n",
       "    <tr style=\"text-align: right;\">\n",
       "      <th></th>\n",
       "      <th>Age</th>\n",
       "      <th>Height</th>\n",
       "      <th>Weight</th>\n",
       "      <th>H_Cal_Consump</th>\n",
       "      <th>Veg_Consump</th>\n",
       "      <th>Water_Consump</th>\n",
       "      <th>Alcohol_Consump</th>\n",
       "      <th>Smoking</th>\n",
       "      <th>Meal_Count</th>\n",
       "      <th>Food_Between_Meals</th>\n",
       "      <th>...</th>\n",
       "      <th>Phys_Act</th>\n",
       "      <th>Time_E_Dev</th>\n",
       "      <th>Gender_Female</th>\n",
       "      <th>Gender_Male</th>\n",
       "      <th>Transport_Automobile</th>\n",
       "      <th>Transport_Bike</th>\n",
       "      <th>Transport_Motorbike</th>\n",
       "      <th>Transport_Public_Transportation</th>\n",
       "      <th>Transport_Walking</th>\n",
       "      <th>Body_Level</th>\n",
       "    </tr>\n",
       "  </thead>\n",
       "  <tbody>\n",
       "    <tr>\n",
       "      <th>0</th>\n",
       "      <td>-0.091766</td>\n",
       "      <td>0.295821</td>\n",
       "      <td>-0.911291</td>\n",
       "      <td>1</td>\n",
       "      <td>0.492179</td>\n",
       "      <td>-1.456611</td>\n",
       "      <td>3</td>\n",
       "      <td>0</td>\n",
       "      <td>0.334339</td>\n",
       "      <td>1</td>\n",
       "      <td>...</td>\n",
       "      <td>-0.374427</td>\n",
       "      <td>1.138046</td>\n",
       "      <td>1</td>\n",
       "      <td>0</td>\n",
       "      <td>0</td>\n",
       "      <td>0</td>\n",
       "      <td>0</td>\n",
       "      <td>1</td>\n",
       "      <td>0</td>\n",
       "      <td>1</td>\n",
       "    </tr>\n",
       "    <tr>\n",
       "      <th>1</th>\n",
       "      <td>-0.558153</td>\n",
       "      <td>0.513037</td>\n",
       "      <td>-0.789811</td>\n",
       "      <td>1</td>\n",
       "      <td>-0.680241</td>\n",
       "      <td>1.392607</td>\n",
       "      <td>2</td>\n",
       "      <td>0</td>\n",
       "      <td>0.675579</td>\n",
       "      <td>2</td>\n",
       "      <td>...</td>\n",
       "      <td>0.624263</td>\n",
       "      <td>2.107213</td>\n",
       "      <td>0</td>\n",
       "      <td>1</td>\n",
       "      <td>0</td>\n",
       "      <td>0</td>\n",
       "      <td>0</td>\n",
       "      <td>1</td>\n",
       "      <td>0</td>\n",
       "      <td>1</td>\n",
       "    </tr>\n",
       "    <tr>\n",
       "      <th>2</th>\n",
       "      <td>-0.893422</td>\n",
       "      <td>0.152091</td>\n",
       "      <td>-0.986313</td>\n",
       "      <td>1</td>\n",
       "      <td>-1.312484</td>\n",
       "      <td>-1.364925</td>\n",
       "      <td>2</td>\n",
       "      <td>0</td>\n",
       "      <td>0.868260</td>\n",
       "      <td>2</td>\n",
       "      <td>...</td>\n",
       "      <td>-0.797506</td>\n",
       "      <td>0.513325</td>\n",
       "      <td>1</td>\n",
       "      <td>0</td>\n",
       "      <td>0</td>\n",
       "      <td>0</td>\n",
       "      <td>0</td>\n",
       "      <td>1</td>\n",
       "      <td>0</td>\n",
       "      <td>1</td>\n",
       "    </tr>\n",
       "    <tr>\n",
       "      <th>3</th>\n",
       "      <td>-0.692537</td>\n",
       "      <td>-0.028700</td>\n",
       "      <td>-0.990472</td>\n",
       "      <td>1</td>\n",
       "      <td>-2.071216</td>\n",
       "      <td>-1.474606</td>\n",
       "      <td>2</td>\n",
       "      <td>0</td>\n",
       "      <td>0.578621</td>\n",
       "      <td>2</td>\n",
       "      <td>...</td>\n",
       "      <td>0.983833</td>\n",
       "      <td>0.513325</td>\n",
       "      <td>1</td>\n",
       "      <td>0</td>\n",
       "      <td>0</td>\n",
       "      <td>0</td>\n",
       "      <td>0</td>\n",
       "      <td>1</td>\n",
       "      <td>0</td>\n",
       "      <td>1</td>\n",
       "    </tr>\n",
       "    <tr>\n",
       "      <th>4</th>\n",
       "      <td>-0.569999</td>\n",
       "      <td>1.020393</td>\n",
       "      <td>-0.659503</td>\n",
       "      <td>1</td>\n",
       "      <td>0.218990</td>\n",
       "      <td>0.177405</td>\n",
       "      <td>3</td>\n",
       "      <td>0</td>\n",
       "      <td>0.848577</td>\n",
       "      <td>2</td>\n",
       "      <td>...</td>\n",
       "      <td>1.013878</td>\n",
       "      <td>1.219940</td>\n",
       "      <td>0</td>\n",
       "      <td>1</td>\n",
       "      <td>1</td>\n",
       "      <td>0</td>\n",
       "      <td>0</td>\n",
       "      <td>0</td>\n",
       "      <td>0</td>\n",
       "      <td>1</td>\n",
       "    </tr>\n",
       "  </tbody>\n",
       "</table>\n",
       "<p>5 rows × 22 columns</p>\n",
       "</div>"
      ],
      "text/plain": [
       "        Age    Height    Weight  H_Cal_Consump  Veg_Consump  Water_Consump  \\\n",
       "0 -0.091766  0.295821 -0.911291              1     0.492179      -1.456611   \n",
       "1 -0.558153  0.513037 -0.789811              1    -0.680241       1.392607   \n",
       "2 -0.893422  0.152091 -0.986313              1    -1.312484      -1.364925   \n",
       "3 -0.692537 -0.028700 -0.990472              1    -2.071216      -1.474606   \n",
       "4 -0.569999  1.020393 -0.659503              1     0.218990       0.177405   \n",
       "\n",
       "   Alcohol_Consump  Smoking  Meal_Count  Food_Between_Meals  ...  Phys_Act  \\\n",
       "0                3        0    0.334339                   1  ... -0.374427   \n",
       "1                2        0    0.675579                   2  ...  0.624263   \n",
       "2                2        0    0.868260                   2  ... -0.797506   \n",
       "3                2        0    0.578621                   2  ...  0.983833   \n",
       "4                3        0    0.848577                   2  ...  1.013878   \n",
       "\n",
       "   Time_E_Dev  Gender_Female  Gender_Male  Transport_Automobile  \\\n",
       "0    1.138046              1            0                     0   \n",
       "1    2.107213              0            1                     0   \n",
       "2    0.513325              1            0                     0   \n",
       "3    0.513325              1            0                     0   \n",
       "4    1.219940              0            1                     1   \n",
       "\n",
       "   Transport_Bike  Transport_Motorbike  Transport_Public_Transportation  \\\n",
       "0               0                    0                                1   \n",
       "1               0                    0                                1   \n",
       "2               0                    0                                1   \n",
       "3               0                    0                                1   \n",
       "4               0                    0                                0   \n",
       "\n",
       "   Transport_Walking  Body_Level  \n",
       "0                  0           1  \n",
       "1                  0           1  \n",
       "2                  0           1  \n",
       "3                  0           1  \n",
       "4                  0           1  \n",
       "\n",
       "[5 rows x 22 columns]"
      ]
     },
     "execution_count": 6,
     "metadata": {},
     "output_type": "execute_result"
    }
   ],
   "source": [
    "df_preprocessed = preprocess(X, y)\n",
    "df_preprocessed.head()"
   ]
  },
  {
   "cell_type": "code",
   "execution_count": 7,
   "metadata": {},
   "outputs": [
    {
     "data": {
      "image/png": "[encoded data removed]",
      "text/plain": [
       "<Figure size 1000x1000 with 2 Axes>"
      ]
     },
     "metadata": {},
     "output_type": "display_data"
    }
   ],
   "source": [
    "cols = df_preprocessed.select_dtypes(include=['float64']).columns.tolist()\n",
    "cols.append('Body_Level')\n",
    "temp_df = df_preprocessed.copy()\n",
    "temp_df['Body_Level'] = StandardScaler().fit_transform(temp_df[['Body_Level']])\n",
    "cov_mat = np.cov(temp_df[cols].values.T.astype(float))\n",
    "plt.figure(figsize=(10,10))\n",
    "sns.set(font_scale=1.5)\n",
    "hm = sns.heatmap(cov_mat,\n",
    "                 cbar=True,\n",
    "                 annot=True,\n",
    "                 square=True,\n",
    "                 fmt='.2f',\n",
    "                 annot_kws={'size': 12},\n",
    "                 cmap='coolwarm',                 \n",
    "                 yticklabels=cols,\n",
    "                 xticklabels=cols)\n",
    "plt.title('Covariance matrix showing correlation coefficients', size = 18)\n",
    "plt.tight_layout()\n",
    "plt.show()"
   ]
  },
  {
   "cell_type": "code",
   "execution_count": 8,
   "metadata": {},
   "outputs": [
    {
     "name": "stdout",
     "output_type": "stream",
     "text": [
      "IQD outlier analysis\n",
      "\"Age\" attributes outliers are values less than -3.7667488991126072 or greater than 3.4035703741188517\n",
      "The number of outliers is 21\n",
      "-------------------------------------------------------------------------------------------------\n",
      "\"Height\" attributes outliers are values less than -5.206708009112299 or greater than 5.187672473362018\n",
      "The number of outliers is 0\n",
      "-------------------------------------------------------------------------------------------------\n",
      "\"Weight\" attributes outliers are values less than -4.830001341112715 or greater than 4.525255946410181\n",
      "The number of outliers is 0\n",
      "-------------------------------------------------------------------------------------------------\n",
      "\"Veg_Consump\" attributes outliers are values less than -5.981941494848767 or greater than 6.388693563131931\n",
      "The number of outliers is 0\n",
      "-------------------------------------------------------------------------------------------------\n",
      "\"Water_Consump\" attributes outliers are values less than -5.356509306190064 or greater than 5.211365747672849\n",
      "The number of outliers is 0\n",
      "-------------------------------------------------------------------------------------------------\n",
      "\"Meal_Count\" attributes outliers are values less than -1.1059866810299168 or greater than 1.4145828614583424\n",
      "The number of outliers is 700\n",
      "-------------------------------------------------------------------------------------------------\n",
      "\"Phys_Act\" attributes outliers are values less than -7.002598070300242 or greater than 6.973656825932675\n",
      "The number of outliers is 0\n",
      "-------------------------------------------------------------------------------------------------\n",
      "\"Time_E_Dev\" attributes outliers are values less than -5.862226478784191 or greater than 5.294988489653307\n",
      "The number of outliers is 0\n",
      "-------------------------------------------------------------------------------------------------\n"
     ]
    }
   ],
   "source": [
    "cols = df_preprocessed.select_dtypes(include=['float64']).columns.tolist()\n",
    "\n",
    "print(\"IQD outlier analysis\")\n",
    "for col in cols:\n",
    "    IQD = df_preprocessed[col].quantile(0.75) - df_preprocessed[col].quantile(0.25)\n",
    "    lower_boundary = df_preprocessed[col].quantile(0.25) - (IQD * 3)\n",
    "    upper_boundary = df_preprocessed[col].quantile(0.75) + (IQD * 3)\n",
    "    print(f'\"{col}\" attributes outliers are values less than {lower_boundary} or greater than {upper_boundary}')\n",
    "    print(f'The number of outliers is {len([x for x in df_preprocessed[col].values if x < lower_boundary or x > upper_boundary])}')\n",
    "    print('-------------------------------------------------------------------------------------------------')"
   ]
  },
  {
   "cell_type": "code",
   "execution_count": 9,
   "metadata": {},
   "outputs": [
    {
     "data": {
      "text/html": [
       "<div>\n",
       "<style scoped>\n",
       "    .dataframe tbody tr th:only-of-type {\n",
       "        vertical-align: middle;\n",
       "    }\n",
       "\n",
       "    .dataframe tbody tr th {\n",
       "        vertical-align: top;\n",
       "    }\n",
       "\n",
       "    .dataframe thead th {\n",
       "        text-align: right;\n",
       "    }\n",
       "</style>\n",
       "<table border=\"1\" class=\"dataframe\">\n",
       "  <thead>\n",
       "    <tr style=\"text-align: right;\">\n",
       "      <th></th>\n",
       "      <th>Age</th>\n",
       "      <th>Height</th>\n",
       "      <th>Weight</th>\n",
       "      <th>H_Cal_Consump</th>\n",
       "      <th>Water_Consump</th>\n",
       "      <th>Alcohol_Consump</th>\n",
       "      <th>Smoking</th>\n",
       "      <th>Food_Between_Meals</th>\n",
       "      <th>Fam_Hist</th>\n",
       "      <th>H_Cal_Burn</th>\n",
       "      <th>Phys_Act</th>\n",
       "      <th>Time_E_Dev</th>\n",
       "      <th>Gender_Female</th>\n",
       "      <th>Gender_Male</th>\n",
       "      <th>Transport_Automobile</th>\n",
       "      <th>Transport_Bike</th>\n",
       "      <th>Transport_Motorbike</th>\n",
       "      <th>Transport_Public_Transportation</th>\n",
       "      <th>Transport_Walking</th>\n",
       "      <th>Body_Level</th>\n",
       "    </tr>\n",
       "  </thead>\n",
       "  <tbody>\n",
       "    <tr>\n",
       "      <th>0</th>\n",
       "      <td>-0.091766</td>\n",
       "      <td>0.295821</td>\n",
       "      <td>-0.911291</td>\n",
       "      <td>1</td>\n",
       "      <td>-1.456611</td>\n",
       "      <td>3</td>\n",
       "      <td>0</td>\n",
       "      <td>1</td>\n",
       "      <td>1</td>\n",
       "      <td>0</td>\n",
       "      <td>-0.374427</td>\n",
       "      <td>1.138046</td>\n",
       "      <td>1</td>\n",
       "      <td>0</td>\n",
       "      <td>0</td>\n",
       "      <td>0</td>\n",
       "      <td>0</td>\n",
       "      <td>1</td>\n",
       "      <td>0</td>\n",
       "      <td>1</td>\n",
       "    </tr>\n",
       "    <tr>\n",
       "      <th>1</th>\n",
       "      <td>-0.558153</td>\n",
       "      <td>0.513037</td>\n",
       "      <td>-0.789811</td>\n",
       "      <td>1</td>\n",
       "      <td>1.392607</td>\n",
       "      <td>2</td>\n",
       "      <td>0</td>\n",
       "      <td>2</td>\n",
       "      <td>1</td>\n",
       "      <td>0</td>\n",
       "      <td>0.624263</td>\n",
       "      <td>2.107213</td>\n",
       "      <td>0</td>\n",
       "      <td>1</td>\n",
       "      <td>0</td>\n",
       "      <td>0</td>\n",
       "      <td>0</td>\n",
       "      <td>1</td>\n",
       "      <td>0</td>\n",
       "      <td>1</td>\n",
       "    </tr>\n",
       "    <tr>\n",
       "      <th>2</th>\n",
       "      <td>-0.893422</td>\n",
       "      <td>0.152091</td>\n",
       "      <td>-0.986313</td>\n",
       "      <td>1</td>\n",
       "      <td>-1.364925</td>\n",
       "      <td>2</td>\n",
       "      <td>0</td>\n",
       "      <td>2</td>\n",
       "      <td>0</td>\n",
       "      <td>0</td>\n",
       "      <td>-0.797506</td>\n",
       "      <td>0.513325</td>\n",
       "      <td>1</td>\n",
       "      <td>0</td>\n",
       "      <td>0</td>\n",
       "      <td>0</td>\n",
       "      <td>0</td>\n",
       "      <td>1</td>\n",
       "      <td>0</td>\n",
       "      <td>1</td>\n",
       "    </tr>\n",
       "    <tr>\n",
       "      <th>3</th>\n",
       "      <td>-0.692537</td>\n",
       "      <td>-0.028700</td>\n",
       "      <td>-0.990472</td>\n",
       "      <td>1</td>\n",
       "      <td>-1.474606</td>\n",
       "      <td>2</td>\n",
       "      <td>0</td>\n",
       "      <td>2</td>\n",
       "      <td>0</td>\n",
       "      <td>0</td>\n",
       "      <td>0.983833</td>\n",
       "      <td>0.513325</td>\n",
       "      <td>1</td>\n",
       "      <td>0</td>\n",
       "      <td>0</td>\n",
       "      <td>0</td>\n",
       "      <td>0</td>\n",
       "      <td>1</td>\n",
       "      <td>0</td>\n",
       "      <td>1</td>\n",
       "    </tr>\n",
       "    <tr>\n",
       "      <th>4</th>\n",
       "      <td>-0.569999</td>\n",
       "      <td>1.020393</td>\n",
       "      <td>-0.659503</td>\n",
       "      <td>1</td>\n",
       "      <td>0.177405</td>\n",
       "      <td>3</td>\n",
       "      <td>0</td>\n",
       "      <td>2</td>\n",
       "      <td>1</td>\n",
       "      <td>0</td>\n",
       "      <td>1.013878</td>\n",
       "      <td>1.219940</td>\n",
       "      <td>0</td>\n",
       "      <td>1</td>\n",
       "      <td>1</td>\n",
       "      <td>0</td>\n",
       "      <td>0</td>\n",
       "      <td>0</td>\n",
       "      <td>0</td>\n",
       "      <td>1</td>\n",
       "    </tr>\n",
       "  </tbody>\n",
       "</table>\n",
       "</div>"
      ],
      "text/plain": [
       "        Age    Height    Weight  H_Cal_Consump  Water_Consump  \\\n",
       "0 -0.091766  0.295821 -0.911291              1      -1.456611   \n",
       "1 -0.558153  0.513037 -0.789811              1       1.392607   \n",
       "2 -0.893422  0.152091 -0.986313              1      -1.364925   \n",
       "3 -0.692537 -0.028700 -0.990472              1      -1.474606   \n",
       "4 -0.569999  1.020393 -0.659503              1       0.177405   \n",
       "\n",
       "   Alcohol_Consump  Smoking  Food_Between_Meals  Fam_Hist  H_Cal_Burn  \\\n",
       "0                3        0                   1         1           0   \n",
       "1                2        0                   2         1           0   \n",
       "2                2        0                   2         0           0   \n",
       "3                2        0                   2         0           0   \n",
       "4                3        0                   2         1           0   \n",
       "\n",
       "   Phys_Act  Time_E_Dev  Gender_Female  Gender_Male  Transport_Automobile  \\\n",
       "0 -0.374427    1.138046              1            0                     0   \n",
       "1  0.624263    2.107213              0            1                     0   \n",
       "2 -0.797506    0.513325              1            0                     0   \n",
       "3  0.983833    0.513325              1            0                     0   \n",
       "4  1.013878    1.219940              0            1                     1   \n",
       "\n",
       "   Transport_Bike  Transport_Motorbike  Transport_Public_Transportation  \\\n",
       "0               0                    0                                1   \n",
       "1               0                    0                                1   \n",
       "2               0                    0                                1   \n",
       "3               0                    0                                1   \n",
       "4               0                    0                                0   \n",
       "\n",
       "   Transport_Walking Body_Level  \n",
       "0                  0          1  \n",
       "1                  0          1  \n",
       "2                  0          1  \n",
       "3                  0          1  \n",
       "4                  0          1  "
      ]
     },
     "execution_count": 9,
     "metadata": {},
     "output_type": "execute_result"
    }
   ],
   "source": [
    "df_preprocessed = df_preprocessed.drop(['Veg_Consump', 'Meal_Count'], axis=1)\n",
    "df_preprocessed.head()"
   ]
  },
  {
   "cell_type": "code",
   "execution_count": 10,
   "metadata": {},
   "outputs": [],
   "source": [
    "# Save the preprocessed dataset\n",
    "df_preprocessed.to_csv('../dataset/body_level_classification_train_preprocessed.csv', index=False)"
   ]
  }
 ],
 "metadata": {
  "kernelspec": {
   "display_name": "Python 3",
   "language": "python",
   "name": "python3"
  },
  "language_info": {
   "codemirror_mode": {
    "name": "ipython",
    "version": 3
   },
   "file_extension": ".py",
   "mimetype": "text/x-python",
   "name": "python",
   "nbconvert_exporter": "python",
   "pygments_lexer": "ipython3",
   "version": "3.8.6"
  },
  "orig_nbformat": 4
 },
 "nbformat": 4,
 "nbformat_minor": 2
}
